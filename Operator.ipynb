{
  "nbformat": 4,
  "nbformat_minor": 0,
  "metadata": {
    "colab": {
      "name": "Operator.ipynb",
      "provenance": [],
      "collapsed_sections": []
    },
    "kernelspec": {
      "name": "python3",
      "display_name": "Python 3"
    },
    "language_info": {
      "name": "python"
    }
  },
  "cells": [
    {
      "cell_type": "code",
      "execution_count": null,
      "metadata": {
        "colab": {
          "base_uri": "https://localhost:8080/"
        },
        "id": "vMc154jbsvxm",
        "outputId": "f0fa5f5e-7dcc-478f-8226-3d987c37a804"
      },
      "outputs": [
        {
          "output_type": "stream",
          "name": "stdout",
          "text": [
            "12 + 4 = 16\n",
            "12 - 4 = 8\n",
            "12 x 4 = 48\n",
            "12 : 4 = 3.0\n",
            "12 ^ 4 = 20736\n",
            "12 % 4 = 0\n"
          ]
        }
      ],
      "source": [
        "\n",
        "#operator aritmatika\n",
        "\n",
        "a = 12\n",
        "b = 4\n",
        "\n",
        "#penjumlahan\n",
        "c = a + b\n",
        "print(a, '+' ,b, '=' ,c )\n",
        "\n",
        "#pengurangan\n",
        "\n",
        "c = a - b\n",
        "print(a, '-' ,b, '=' ,c )\n",
        "\n",
        "#perkalian\n",
        "c = a * b\n",
        "print(a, 'x' ,b, '=' ,c )\n",
        "\n",
        "#pembagian\n",
        "c = a / b\n",
        "print(a, ':' ,b, '=' ,c )\n",
        "\n",
        "#perpangkatan\n",
        "c = a ** b\n",
        "print(a, '^' ,b, '=' ,c )\n",
        "\n",
        "#modulo\n",
        "c = a % b\n",
        "print(a, '%' ,b, '=' ,c )"
      ]
    },
    {
      "cell_type": "code",
      "source": [
        "#operator penugasan\n",
        "\n",
        "x = 5\n",
        "\n",
        "x += 3 # x = x + 2\n",
        "print(x)\n",
        "\n",
        "x -= 3 # x = x - 2\n",
        "print(x)\n",
        "\n",
        "x *= 3 # x = x : 2\n",
        "print(x)\n",
        "\n",
        "x /= 3 # x = x X 2\n",
        "print(x)"
      ],
      "metadata": {
        "id": "S9ipp3PvvcyK",
        "colab": {
          "base_uri": "https://localhost:8080/"
        },
        "outputId": "5b70c803-e072-4f68-a666-bb5f0579b28a"
      },
      "execution_count": null,
      "outputs": [
        {
          "output_type": "stream",
          "name": "stdout",
          "text": [
            "8\n",
            "5\n",
            "15\n",
            "5.0\n"
          ]
        }
      ]
    },
    {
      "cell_type": "code",
      "source": [
        "#operator pembanding\n",
        "\n",
        "a = 5\n",
        "b = 3\n",
        "\n",
        "#lebih dari\n",
        "c = a > b\n",
        "print(c)\n",
        "\n",
        "#kurang dari\n",
        "c = a < b\n",
        "print(c)\n",
        "\n",
        "#setara / sama dengan\n",
        "c = a == b\n",
        "print(c)\n",
        "\n",
        "#tidak setara \\ tidak sama dengan\n",
        "c = a != b\n",
        "print(c)\n",
        "\n",
        "#lebih dari sama dengan\n",
        "c = a >= b\n",
        "print(c)\n",
        "\n",
        "#kurang dari sama dengan\n",
        "c = a <= b\n",
        "print(c)"
      ],
      "metadata": {
        "colab": {
          "base_uri": "https://localhost:8080/"
        },
        "id": "Ss9x1FTO1lsy",
        "outputId": "71e31f46-280d-41ed-a844-9ae9f0a385ac"
      },
      "execution_count": null,
      "outputs": [
        {
          "output_type": "stream",
          "name": "stdout",
          "text": [
            "True\n",
            "False\n",
            "False\n",
            "True\n",
            "True\n",
            "False\n"
          ]
        }
      ]
    },
    {
      "cell_type": "code",
      "source": [
        ""
      ],
      "metadata": {
        "id": "K4h_97T54dY2"
      },
      "execution_count": null,
      "outputs": []
    }
  ]
}