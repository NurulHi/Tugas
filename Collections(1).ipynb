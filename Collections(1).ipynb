{
  "nbformat": 4,
  "nbformat_minor": 0,
  "metadata": {
    "colab": {
      "name": "Collections.ipynb",
      "provenance": []
    },
    "kernelspec": {
      "name": "python3",
      "display_name": "Python 3"
    },
    "language_info": {
      "name": "python"
    }
  },
  "cells": [
    {
      "cell_type": "markdown",
      "source": [
        "LIST\n"
      ],
      "metadata": {
        "id": "KrZdZgV5NeGi"
      }
    },
    {
      "cell_type": "code",
      "execution_count": null,
      "metadata": {
        "colab": {
          "base_uri": "https://localhost:8080/"
        },
        "id": "X3wUKfrCG15e",
        "outputId": "7c966ee7-371c-4dee-b208-6da2210da47e"
      },
      "outputs": [
        {
          "output_type": "stream",
          "name": "stdout",
          "text": [
            "gajah\n",
            "jerapah\n",
            "kuda\n",
            "kambing\n"
          ]
        }
      ],
      "source": [
        "#menampilkan nilai menggunakan perulangan\n",
        "hewan = ['gajah', 'jerapah', 'kuda','kambing']\n",
        "for a in hewan :\n",
        "    print(a)\n"
      ]
    },
    {
      "cell_type": "code",
      "source": [
        "#mengupdate salah satu value\n",
        "hewan = ['gajah', 'jerapah', 'kuda','kambing']\n",
        "hewan[0] = 'sapi'\n",
        "for a in hewan :\n",
        "    print(a)"
      ],
      "metadata": {
        "colab": {
          "base_uri": "https://localhost:8080/"
        },
        "id": "wDNYvRxqNaZ5",
        "outputId": "1b890594-4cf3-47fe-e2a9-b4c4ccabf11c"
      },
      "execution_count": null,
      "outputs": [
        {
          "output_type": "stream",
          "name": "stdout",
          "text": [
            "sapi\n",
            "jerapah\n",
            "kuda\n",
            "kambing\n"
          ]
        }
      ]
    },
    {
      "cell_type": "code",
      "source": [
        "#menghapus salah satu nilai\n",
        "hewan = ['gajah', 'jerapah', 'kuda','kambing']\n",
        "hewan.remove('kuda')\n",
        "for a in hewan :\n",
        "    print(a)"
      ],
      "metadata": {
        "colab": {
          "base_uri": "https://localhost:8080/"
        },
        "id": "xz255sxhSl8_",
        "outputId": "efd6c86e-6b42-4cf2-db00-145e29853a04"
      },
      "execution_count": null,
      "outputs": [
        {
          "output_type": "stream",
          "name": "stdout",
          "text": [
            "gajah\n",
            "jerapah\n",
            "kambing\n"
          ]
        }
      ]
    },
    {
      "cell_type": "code",
      "source": [
        "#menambahkan value\n",
        "hewan = ['gajah', 'jerapah', 'kuda','kambing']\n",
        "hewan.insert(0,'sapi')\n",
        "for a in hewan :\n",
        "    print(a)"
      ],
      "metadata": {
        "colab": {
          "base_uri": "https://localhost:8080/"
        },
        "id": "io7R5ujXylrZ",
        "outputId": "0397e9dc-59f0-4524-99ee-f36870906b8b"
      },
      "execution_count": 1,
      "outputs": [
        {
          "output_type": "stream",
          "name": "stdout",
          "text": [
            "sapi\n",
            "gajah\n",
            "jerapah\n",
            "kuda\n",
            "kambing\n"
          ]
        }
      ]
    },
    {
      "cell_type": "markdown",
      "source": [
        "TUPLE"
      ],
      "metadata": {
        "id": "qnvzpMjGP9dg"
      }
    },
    {
      "cell_type": "code",
      "source": [
        "#menampilkan value menggunakan perulangan\n",
        "hewan = ('gajah', 'jerapah', 'kuda','kambing')\n",
        "for b in hewan :\n",
        "    print(b)"
      ],
      "metadata": {
        "colab": {
          "base_uri": "https://localhost:8080/"
        },
        "id": "6L3NeUgvMZTi",
        "outputId": "3aa37c58-bf39-45a8-8316-07d6244825ad"
      },
      "execution_count": null,
      "outputs": [
        {
          "output_type": "stream",
          "name": "stdout",
          "text": [
            "gajah\n",
            "jerapah\n",
            "kuda\n",
            "kambing\n"
          ]
        }
      ]
    },
    {
      "cell_type": "markdown",
      "source": [
        "DICTIONARY"
      ],
      "metadata": {
        "id": "YFpF6wZNVwNa"
      }
    },
    {
      "cell_type": "code",
      "source": [
        "#menampilkan value menggunakan perulangan\n",
        "biodata = {\n",
        "    'nama' : 'Hidayah',\n",
        "    'alamat' : 'Wonomulyo',\n",
        "    'agama' : 'Islam'\n",
        "}\n",
        "for key,value in biodata.items():\n",
        "    print(key,':',value)"
      ],
      "metadata": {
        "colab": {
          "base_uri": "https://localhost:8080/"
        },
        "id": "hd9ctrCmVhNR",
        "outputId": "6fb0dd0e-52ac-472c-e2fc-794b10455675"
      },
      "execution_count": null,
      "outputs": [
        {
          "output_type": "stream",
          "name": "stdout",
          "text": [
            "nama : Hidayah\n",
            "alamat : Wonomulyo\n",
            "agama : Islam\n"
          ]
        }
      ]
    },
    {
      "cell_type": "code",
      "source": [
        "#mengupdate salah satu value\n",
        "biodata = {\n",
        "    'nama' : 'Hidayah',\n",
        "    'alamat' : 'Wonomulyo',\n",
        "    'agama' : 'Islam'\n",
        "}\n",
        "biodata ['nama'] = 'Nurul'\n",
        "for key,value in biodata.items():\n",
        "    print(key,':',value)\n"
      ],
      "metadata": {
        "colab": {
          "base_uri": "https://localhost:8080/"
        },
        "id": "448zehIcRUbQ",
        "outputId": "5b926670-3910-4e80-9bbf-8d3b9eb24498"
      },
      "execution_count": null,
      "outputs": [
        {
          "output_type": "stream",
          "name": "stdout",
          "text": [
            "nama : Nurul\n",
            "alamat : Wonomulyo\n",
            "agama : Islam\n"
          ]
        }
      ]
    },
    {
      "cell_type": "code",
      "source": [
        "#menghapus salah satu value\n",
        "biodata = {\n",
        "    'nama' : 'Hidayah',\n",
        "    'alamat' : 'Wonomulyo',\n",
        "    'agama' : 'Islam'\n",
        "}\n",
        "biodata.pop('agama')\n",
        "for key,value in biodata.items():\n",
        "    print(key,':',value)"
      ],
      "metadata": {
        "colab": {
          "base_uri": "https://localhost:8080/"
        },
        "id": "zyrJIO0sTvog",
        "outputId": "0221a857-ed67-4df1-9d65-239fbc47cb2f"
      },
      "execution_count": 3,
      "outputs": [
        {
          "output_type": "stream",
          "name": "stdout",
          "text": [
            "nama : Hidayah\n",
            "alamat : Wonomulyo\n"
          ]
        }
      ]
    },
    {
      "cell_type": "code",
      "source": [
        "#menambahkan value\n",
        "biodata = {\n",
        "    'nama' : 'Hidayah',\n",
        "    'alamat' : 'Wonomulyo',\n",
        "    'agama' : 'Islam'\n",
        "}\n",
        "biodata['hobi'] = 'rebahan'\n",
        "for key,value in biodata.items():\n",
        "    print(key,':',value)"
      ],
      "metadata": {
        "colab": {
          "base_uri": "https://localhost:8080/"
        },
        "id": "fl3xtk_l276D",
        "outputId": "5ef7a422-b330-4586-9b63-3fc0103e068d"
      },
      "execution_count": 4,
      "outputs": [
        {
          "output_type": "stream",
          "name": "stdout",
          "text": [
            "nama : Hidayah\n",
            "alamat : Wonomulyo\n",
            "agama : Islam\n",
            "hobi : rebahan\n"
          ]
        }
      ]
    },
    {
      "cell_type": "markdown",
      "source": [
        "SET"
      ],
      "metadata": {
        "id": "fPqiDY61V1FN"
      }
    },
    {
      "cell_type": "code",
      "source": [
        "#menampilkan nilai menggunakan perulangan\n",
        "buah = {'apel', 'jeruk','mangga','anggur','rambutan'}\n",
        "for c in buah :\n",
        "    print(c)"
      ],
      "metadata": {
        "colab": {
          "base_uri": "https://localhost:8080/"
        },
        "id": "dQJa9T36MmqI",
        "outputId": "a98ea435-42a7-4569-9e49-e42ecbeeff9e"
      },
      "execution_count": null,
      "outputs": [
        {
          "output_type": "stream",
          "name": "stdout",
          "text": [
            "jeruk\n",
            "anggur\n",
            "apel\n",
            "rambutan\n",
            "mangga\n"
          ]
        }
      ]
    },
    {
      "cell_type": "code",
      "source": [
        "#menghapus salah satu nilai\n",
        "buah = {'apel', 'jeruk','mangga','anggur','rambutan'}\n",
        "buah.remove('apel')\n",
        "for c in buah :\n",
        "    print(c)"
      ],
      "metadata": {
        "colab": {
          "base_uri": "https://localhost:8080/"
        },
        "id": "uE6zhI5eUkg8",
        "outputId": "0af89bd6-3262-4735-b17e-884f3e87d644"
      },
      "execution_count": 5,
      "outputs": [
        {
          "output_type": "stream",
          "name": "stdout",
          "text": [
            "rambutan\n",
            "anggur\n",
            "mangga\n",
            "jeruk\n"
          ]
        }
      ]
    },
    {
      "cell_type": "code",
      "source": [
        "#menambahkan value\n",
        "buah = {'apel', 'jeruk','mangga','anggur','rambutan'}\n",
        "buah.add('leci')\n",
        "for c in buah :\n",
        "    print(c)"
      ],
      "metadata": {
        "colab": {
          "base_uri": "https://localhost:8080/"
        },
        "id": "8grrOSZw3YLr",
        "outputId": "0ff7176a-ff68-4944-def4-23750fc0d3e1"
      },
      "execution_count": 8,
      "outputs": [
        {
          "output_type": "stream",
          "name": "stdout",
          "text": [
            "leci\n",
            "rambutan\n",
            "anggur\n",
            "mangga\n",
            "jeruk\n",
            "apel\n"
          ]
        }
      ]
    }
  ]
}