{
  "nbformat": 4,
  "nbformat_minor": 0,
  "metadata": {
    "colab": {
      "name": "List.ipynb",
      "provenance": []
    },
    "kernelspec": {
      "name": "python3",
      "display_name": "Python 3"
    },
    "language_info": {
      "name": "python"
    }
  },
  "cells": [
    {
      "cell_type": "code",
      "execution_count": 1,
      "metadata": {
        "colab": {
          "base_uri": "https://localhost:8080/"
        },
        "id": "wJN_h39zxHaV",
        "outputId": "fb7fa9b9-21bd-4614-f36a-9ad486de3904"
      },
      "outputs": [
        {
          "output_type": "stream",
          "name": "stdout",
          "text": [
            "Tambah anggota : meja\n",
            "Tambah anggota : kursi\n",
            "Tambah anggota : bantal\n",
            "Tambah anggota : handuk\n",
            "Tambah anggota : sarung\n",
            "Tambah anggota : stop\n",
            "['meja', 'kursi', 'bantal', 'handuk', 'sarung']\n",
            "masukkan barang yang ingin di tambahkan : jilbab\n",
            "masukkan barang akan dihapus : handuk\n",
            "['meja', 'kursi', 'bantal', 'handuk', 'sarung', 'jilbab']\n",
            "['meja', 'kursi', 'bantal', 'sarung', 'jilbab']\n",
            "['meja', 'kursi', 'bantal', 'sarung', 'jilbab']\n",
            "masukka barang yang ingin diedit : kursi\n",
            "masukkan barang yang baru : laci\n",
            "['meja', 'laci', 'bantal', 'sarung', 'jilbab']\n",
            "masukkan barang yang ingin ditampilkan : sarung\n",
            "sarung ada pada list\n",
            "masukkan barang yang ingin di cari indeksnya : jilbab\n",
            "jilbab ada pada indeks ke-4\n"
          ]
        }
      ],
      "source": [
        "list = []\n",
        "while True :\n",
        "    barang = input('Tambah anggota : ')\n",
        "    if barang != 'stop' :\n",
        "        list.append(barang)\n",
        "    else :\n",
        "        break\n",
        "print(list)\n",
        "#menambahkan barang\n",
        "tambah_barang = input('masukkan barang yang ingin di tambahkan : ')\n",
        "list.append(tambah_barang)\n",
        "print(list)\n",
        "#menghapus barang\n",
        "hapus_barang = input('masukkan barang akan dihapus : ')\n",
        "list.remove(hapus_barang)\n",
        "print(list)\n",
        "#menampilkan semua barang\n",
        "print(list[:])\n",
        "#mengedit barang\n",
        "edit = input('masukka barang yang ingin diedit : ')\n",
        "indeks = None\n",
        "for x in range (len(list)):\n",
        "    if list [x] == edit :\n",
        "        indeks = x\n",
        "if indeks == None:\n",
        "    print('barang tdk ditemukan!')\n",
        "else :\n",
        "    list[indeks] =input('masukkan barang yang baru : ')\n",
        "    print(list)\n",
        "#menampilkan apakah barang sudah ada pada list atau belum\n",
        "barang = input('masukkan barang yang ingin ditampilkan : ')\n",
        "flag = False\n",
        "for i in range (len(list)):\n",
        "    if list [i] == barang :\n",
        "        print('{} ada pada list'.format(barang))\n",
        "flag = True\n",
        "if flag == False :\n",
        "        print('{} tidak ada pada list'.format(barang))\n",
        "#menampilkan indeks barang tertentu\n",
        "cari = input('masukkan barang yang ingin di cari indeksnya : ')\n",
        "indeks = None\n",
        "for a in range (len(list)):\n",
        "    if list [a]== cari :\n",
        "        indeks = a\n",
        "if indeks == None :\n",
        "    print('barang tdk ditemuakan!')\n",
        "else :\n",
        "    print('{} ada pada indeks ke-{}'.format(cari,indeks))"
      ]
    }
  ]
}