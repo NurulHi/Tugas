{
  "nbformat": 4,
  "nbformat_minor": 0,
  "metadata": {
    "colab": {
      "name": "stack & queue.ipynb",
      "provenance": []
    },
    "kernelspec": {
      "name": "python3",
      "display_name": "Python 3"
    },
    "language_info": {
      "name": "python"
    }
  },
  "cells": [
    {
      "cell_type": "code",
      "execution_count": 126,
      "metadata": {
        "colab": {
          "base_uri": "https://localhost:8080/"
        },
        "id": "ZC5LKPhUgYHu",
        "outputId": "e606a358-ecd8-4eb2-e404-251a24db76e6"
      },
      "outputs": [
        {
          "output_type": "stream",
          "name": "stdout",
          "text": [
            "masukkan data: merah\n",
            "masukkan data: kuning\n",
            "masukkan data: hijau\n",
            "masukkan data: biru\n",
            "masukkan data: stop\n",
            "data sekarang:  ['merah', 'kuning', 'hijau', 'biru']\n",
            "masukkan data baru: pink\n",
            "data sekarang:  ['merah', 'kuning', 'hijau', 'biru', 'pink']\n",
            "data keluar:  pink\n",
            "data sekarang:  ['merah', 'kuning', 'hijau', 'biru']\n",
            "data teratas:  biru\n",
            "False\n",
            "data stack:  ['merah', 'kuning', 'hijau', 'biru']\n"
          ]
        }
      ],
      "source": [
        "stack =[]\n",
        "while True :\n",
        "    tumpukan = input('masukkan data: ')\n",
        "    if tumpukan != 'stop' :\n",
        "        stack.append(tumpukan)\n",
        "    else :\n",
        "        break\n",
        "print('data sekarang: ',stack)\n",
        "\n",
        "#memasukkan data baru (push)\n",
        "enter = input('masukkan data baru: ') \n",
        "stack.append(enter)\n",
        "print('data sekarang: ',stack)\n",
        "\n",
        "#menghapus data (pop)\n",
        "out = stack.pop()\n",
        "print('data keluar: ',out)\n",
        "print('data sekarang: ',stack)\n",
        "\n",
        "#mengetahui data teratas (top)\n",
        "top = len(stack)-1 \n",
        "if top < 0 :\n",
        "        print('tidak terdefenisi')\n",
        "else:\n",
        "        print('data teratas: ',stack[top])\n",
        "\n",
        "#mendefenisikan fungsi isempty\n",
        "if len(stack)== 0:\n",
        "        print('True')\n",
        "else:\n",
        "        print('False')\n",
        "\n",
        "#menampilakan data stack (size)\n",
        "print('data stack: ',stack)\n"
      ]
    },
    {
      "cell_type": "code",
      "source": [
        "from collections import deque\n",
        "antrian =deque ([])\n",
        "while True :\n",
        "    data =int(input('masukkan data: '))\n",
        "    if data != 0 :\n",
        "        antrian.append(data)\n",
        "    else :\n",
        "        break\n",
        "\n",
        "print('data',antrian)\n",
        "\n",
        "#menambahkan data antrian (enqueue) \n",
        "enter = int(input('tambahkan data: '))\n",
        "antrian.append(enter)\n",
        "print('data',antrian)\n",
        "\n",
        "#mengurangi antrian (dequeue)\n",
        "out = antrian.pop()  #mengurangi antrian paling kanan\n",
        "print('data keluar: ',out)\n",
        "print('data',antrian)\n",
        "\n",
        "#mengetahui banyaknya isi data queue (size)\n",
        "def size(antrian):\n",
        "    return len(antrian)\n",
        "print('jumlah isi queue: ',size(antrian))\n",
        "\n",
        "#mengetahui semua elemen queue\n",
        "def semua(antrian):\n",
        "        return antrian\n",
        "print('semua isi queue: ',semua(antrian))"
      ],
      "metadata": {
        "colab": {
          "base_uri": "https://localhost:8080/"
        },
        "id": "R42LD6cAr4zP",
        "outputId": "8c26fda8-0bcf-406f-c927-117c30c77897"
      },
      "execution_count": 125,
      "outputs": [
        {
          "output_type": "stream",
          "name": "stdout",
          "text": [
            "masukkan data: 1\n",
            "masukkan data: 2\n",
            "masukkan data: 3\n",
            "masukkan data: 4\n",
            "masukkan data: 5\n",
            "masukkan data: 0\n",
            "data deque([1, 2, 3, 4, 5])\n",
            "tambahkan data: 6\n",
            "data deque([1, 2, 3, 4, 5, 6])\n",
            "data keluar:  6\n",
            "data deque([1, 2, 3, 4, 5])\n",
            "jumlah isi queue:  5\n",
            "deque([1, 2, 3, 4, 5])\n"
          ]
        }
      ]
    }
  ]
}